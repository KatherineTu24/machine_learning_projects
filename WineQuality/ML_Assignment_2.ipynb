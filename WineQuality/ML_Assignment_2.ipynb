{
  "nbformat": 4,
  "nbformat_minor": 0,
  "metadata": {
    "colab": {
      "provenance": []
    },
    "kernelspec": {
      "name": "python3",
      "display_name": "Python 3"
    },
    "language_info": {
      "name": "python"
    }
  },
  "cells": [
    {
      "cell_type": "markdown",
      "source": [
        "# **Assignment 2**\n",
        "\n",
        "\n",
        "---\n",
        "\n",
        "\n",
        "Students: Gergana Ivanova, Katherine Tu, Silvija Radzevičiūtė\n",
        "\n",
        "\n"
      ],
      "metadata": {
        "id": "ofe-sK1omISt"
      }
    },
    {
      "cell_type": "code",
      "execution_count": 1,
      "metadata": {
        "id": "jqt75Hwr6eIW"
      },
      "outputs": [],
      "source": [
        "import matplotlib.pyplot as plt\n",
        "import pandas as pd\n",
        "import numpy as np\n",
        "from sklearn.model_selection import train_test_split\n",
        "from sklearn.linear_model import LogisticRegression, LogisticRegressionCV\n",
        "from sklearn.model_selection import cross_val_score\n",
        "from sklearn.model_selection import GridSearchCV\n",
        "from sklearn import linear_model\n",
        "from sklearn import metrics\n",
        "from sklearn.tree import DecisionTreeClassifier\n",
        "from sklearn import tree\n",
        "from sklearn.metrics import confusion_matrix, accuracy_score, classification_report"
      ]
    },
    {
      "cell_type": "code",
      "source": [
        "%matplotlib inline\n",
        "plt.close('all')"
      ],
      "metadata": {
        "id": "ns7q8gwwBiF7"
      },
      "execution_count": 2,
      "outputs": []
    },
    {
      "cell_type": "markdown",
      "source": [
        "# **Part A**"
      ],
      "metadata": {
        "id": "w4D8l65jRnXL"
      }
    },
    {
      "cell_type": "markdown",
      "source": [
        "# **Question 1**"
      ],
      "metadata": {
        "id": "Fcgu0hRZPFBU"
      }
    },
    {
      "cell_type": "code",
      "source": [
        "df_red = pd.read_csv('winequality-red.csv', sep= \";\")\n",
        "df_white = pd.read_csv('winequality-white.csv', sep = \";\")"
      ],
      "metadata": {
        "id": "57mbq5bbBioC"
      },
      "execution_count": 3,
      "outputs": []
    },
    {
      "cell_type": "code",
      "source": [
        "# red wine\n",
        "df = df_red.drop('quality', axis=1)\n",
        "X = df.to_numpy()\n",
        "y = df_red['quality'].to_numpy()\n",
        "\n",
        "X_train, X_test, y_train, y_test = train_test_split(X, y, train_size = 0.75, random_state = 0)\n",
        "\n",
        "parameters = {'C': [0.1, 1, 10, 20, 30, 40]}\n",
        "grid = GridSearchCV(LogisticRegression(penalty='l2', max_iter=10000, multi_class=\"ovr\"), parameters, cv=5)\n",
        "grid.fit(X_train, y_train)\n",
        "\n",
        "print(grid.best_estimator_)\n",
        "\n",
        "best_model = grid.best_estimator_\n",
        "logreg = best_model.fit(X_train, y_train)\n",
        "      \n",
        "print(\"Training test score: {:.2f}\".format(logreg.score(X_train, y_train)))\n",
        "print(\"Test set score: {:.2f}\".format(logreg.score(X_test, y_test)))\n",
        "print(\"Number of features used: {}\".format(np.sum(logreg.coef_!=0)))"
      ],
      "metadata": {
        "colab": {
          "base_uri": "https://localhost:8080/"
        },
        "id": "2sJYDS3wBxWZ",
        "outputId": "72b79096-fa60-4f02-a5dd-409e8922216d"
      },
      "execution_count": 4,
      "outputs": [
        {
          "output_type": "stream",
          "name": "stdout",
          "text": [
            "LogisticRegression(C=30, max_iter=10000, multi_class='ovr')\n",
            "Training test score: 0.59\n",
            "Test set score: 0.64\n",
            "Number of features used: 66\n"
          ]
        }
      ]
    },
    {
      "cell_type": "code",
      "source": [
        "# white wine\n",
        "df = df_white.drop('quality', axis=1)\n",
        "X = df.to_numpy()\n",
        "y = df_white['quality'].to_numpy()\n",
        "\n",
        "X_train, X_test, y_train, y_test = train_test_split(X, y, train_size = 0.75, random_state = 0)\n",
        "\n",
        "parameters = {'C': [1, 10, 20, 30, 40, 50]}\n",
        "grid = GridSearchCV(LogisticRegression(penalty='l2', max_iter=10000, multi_class=\"ovr\"), parameters, cv=5)\n",
        "grid.fit(X_train, y_train)\n",
        "\n",
        "print(grid.best_estimator_)\n",
        "\n",
        "best_model = grid.best_estimator_\n",
        "logreg = best_model.fit(X_train, y_train)\n",
        "\n",
        "      \n",
        "print(\"Training test score: {:.2f}\".format(logreg.score(X_train, y_train)))\n",
        "print(\"Test set score: {:.2f}\".format(logreg.score(X_test, y_test)))\n",
        "print(\"Number of features used: {}\".format(np.sum(logreg.coef_!=0)))"
      ],
      "metadata": {
        "colab": {
          "base_uri": "https://localhost:8080/"
        },
        "id": "jAD7C438Fxzj",
        "outputId": "a15d68d9-d790-4fbc-b339-56de1132c7a9"
      },
      "execution_count": 5,
      "outputs": [
        {
          "output_type": "stream",
          "name": "stdout",
          "text": [
            "LogisticRegression(C=40, max_iter=10000, multi_class='ovr')\n",
            "Training test score: 0.54\n",
            "Test set score: 0.52\n",
            "Number of features used: 77\n"
          ]
        }
      ]
    },
    {
      "cell_type": "markdown",
      "source": [
        "##### Drawbacks and Adventage of using multiclass logistic regression\n",
        "\n",
        "Pros:\n",
        "\n",
        "*   Easy to implement and interpret yet efficient in training (it doesn't need lots of operation time).\n",
        "*   Perform well on low dimensional dataset.\n",
        "*   Predicted parameters give inference about the importance of each feature\n",
        "\n",
        "\n",
        "Cons:\n",
        "*   Boundaries of each feature are different which may cause as issue with the accuracy of the findings."
      ],
      "metadata": {
        "id": "9kQKO7KMP2V0"
      }
    },
    {
      "cell_type": "markdown",
      "source": [
        "# **Question 2**"
      ],
      "metadata": {
        "id": "HTxtTIZpP_w0"
      }
    },
    {
      "cell_type": "markdown",
      "source": [
        "Loading datasets"
      ],
      "metadata": {
        "id": "-JTN1mTmdZas"
      }
    },
    {
      "cell_type": "code",
      "source": [
        "df_test = pd.read_csv('test.csv')\n",
        "df_testlabel = pd.read_csv('test_label.csv')\n",
        "df_train = pd.read_csv('train.csv')"
      ],
      "metadata": {
        "id": "_Iq3EH8wP_VI"
      },
      "execution_count": 6,
      "outputs": []
    },
    {
      "cell_type": "markdown",
      "source": [
        "Checking whether missing values exist or not.\n",
        "\n",
        "By using `.info()` , we found no missing values exist in the dataset.\n",
        "\n",
        "\n"
      ],
      "metadata": {
        "id": "bTlbswkJddQT"
      }
    },
    {
      "cell_type": "code",
      "source": [
        "df_test.info()\n",
        "df_train.info()"
      ],
      "metadata": {
        "colab": {
          "base_uri": "https://localhost:8080/"
        },
        "id": "c45DSmdg8NlY",
        "outputId": "ee16ab55-fbc9-4c89-b71a-8a8bf91b77d1"
      },
      "execution_count": 7,
      "outputs": [
        {
          "output_type": "stream",
          "name": "stdout",
          "text": [
            "<class 'pandas.core.frame.DataFrame'>\n",
            "RangeIndex: 4291 entries, 0 to 4290\n",
            "Data columns (total 16 columns):\n",
            " #   Column     Non-Null Count  Dtype \n",
            "---  ------     --------------  ----- \n",
            " 0   ID         4291 non-null   int64 \n",
            " 1   age        4291 non-null   int64 \n",
            " 2   job        4291 non-null   object\n",
            " 3   marital    4291 non-null   object\n",
            " 4   education  4291 non-null   object\n",
            " 5   default    4291 non-null   object\n",
            " 6   balance    4291 non-null   int64 \n",
            " 7   housing    4291 non-null   object\n",
            " 8   loan       4291 non-null   object\n",
            " 9   contact    4291 non-null   object\n",
            " 10  day        4291 non-null   int64 \n",
            " 11  month      4291 non-null   object\n",
            " 12  campaign   4291 non-null   int64 \n",
            " 13  pdays      4291 non-null   int64 \n",
            " 14  previous   4291 non-null   int64 \n",
            " 15  poutcome   4291 non-null   object\n",
            "dtypes: int64(7), object(9)\n",
            "memory usage: 536.5+ KB\n",
            "<class 'pandas.core.frame.DataFrame'>\n",
            "RangeIndex: 12870 entries, 0 to 12869\n",
            "Data columns (total 17 columns):\n",
            " #   Column     Non-Null Count  Dtype \n",
            "---  ------     --------------  ----- \n",
            " 0   ID         12870 non-null  int64 \n",
            " 1   age        12870 non-null  int64 \n",
            " 2   job        12870 non-null  object\n",
            " 3   marital    12870 non-null  object\n",
            " 4   education  12870 non-null  object\n",
            " 5   default    12870 non-null  object\n",
            " 6   balance    12870 non-null  int64 \n",
            " 7   housing    12870 non-null  object\n",
            " 8   loan       12870 non-null  object\n",
            " 9   contact    12870 non-null  object\n",
            " 10  day        12870 non-null  int64 \n",
            " 11  month      12870 non-null  object\n",
            " 12  campaign   12870 non-null  int64 \n",
            " 13  pdays      12870 non-null  int64 \n",
            " 14  previous   12870 non-null  int64 \n",
            " 15  poutcome   12870 non-null  object\n",
            " 16  y          12870 non-null  object\n",
            "dtypes: int64(7), object(10)\n",
            "memory usage: 1.7+ MB\n"
          ]
        }
      ]
    },
    {
      "cell_type": "markdown",
      "source": [
        "Converting datasets to one-hot encoding with `pd.get_dummies()`"
      ],
      "metadata": {
        "id": "ViKbgye_eALq"
      }
    },
    {
      "cell_type": "code",
      "source": [
        "# test set to dummies\n",
        "print(\"Original features:\\n\", list(df_test.columns), \"\\n\")\n",
        "test_dummies = pd.get_dummies(df_test)\n",
        "print(\"Features after get_dummies:\\n\", list(test_dummies.columns))"
      ],
      "metadata": {
        "colab": {
          "base_uri": "https://localhost:8080/"
        },
        "id": "MOlECTj5gBMS",
        "outputId": "94bb7696-2cc6-4e6a-d59f-518221808994"
      },
      "execution_count": 8,
      "outputs": [
        {
          "output_type": "stream",
          "name": "stdout",
          "text": [
            "Original features:\n",
            " ['ID', 'age', 'job', 'marital', 'education', 'default', 'balance', 'housing', 'loan', 'contact', 'day', 'month', 'campaign', 'pdays', 'previous', 'poutcome'] \n",
            "\n",
            "Features after get_dummies:\n",
            " ['ID', 'age', 'balance', 'day', 'campaign', 'pdays', 'previous', 'job_admin.', 'job_blue-collar', 'job_entrepreneur', 'job_housemaid', 'job_management', 'job_retired', 'job_self-employed', 'job_services', 'job_student', 'job_technician', 'job_unemployed', 'job_unknown', 'marital_divorced', 'marital_married', 'marital_single', 'education_primary', 'education_secondary', 'education_tertiary', 'education_unknown', 'default_no', 'default_yes', 'housing_no', 'housing_yes', 'loan_no', 'loan_yes', 'contact_cellular', 'contact_telephone', 'contact_unknown', 'month_apr', 'month_aug', 'month_dec', 'month_feb', 'month_jan', 'month_jul', 'month_jun', 'month_mar', 'month_may', 'month_nov', 'month_oct', 'month_sep', 'poutcome_failure', 'poutcome_other', 'poutcome_success', 'poutcome_unknown']\n"
          ]
        }
      ]
    },
    {
      "cell_type": "code",
      "source": [
        "# training set to dummies\n",
        "print(\"Original features:\\n\", list(df_train.columns), \"\\n\")\n",
        "train_dummies = pd.get_dummies(df_train)\n",
        "print(\"Features after get_dummies:\\n\", list(train_dummies.columns))"
      ],
      "metadata": {
        "colab": {
          "base_uri": "https://localhost:8080/"
        },
        "id": "IMbewLXK_Jds",
        "outputId": "5a272272-06b3-48fd-aa74-02848bcb970c"
      },
      "execution_count": 9,
      "outputs": [
        {
          "output_type": "stream",
          "name": "stdout",
          "text": [
            "Original features:\n",
            " ['ID', 'age', 'job', 'marital', 'education', 'default', 'balance', 'housing', 'loan', 'contact', 'day', 'month', 'campaign', 'pdays', 'previous', 'poutcome', 'y'] \n",
            "\n",
            "Features after get_dummies:\n",
            " ['ID', 'age', 'balance', 'day', 'campaign', 'pdays', 'previous', 'job_admin.', 'job_blue-collar', 'job_entrepreneur', 'job_housemaid', 'job_management', 'job_retired', 'job_self-employed', 'job_services', 'job_student', 'job_technician', 'job_unemployed', 'job_unknown', 'marital_divorced', 'marital_married', 'marital_single', 'education_primary', 'education_secondary', 'education_tertiary', 'education_unknown', 'default_no', 'default_yes', 'housing_no', 'housing_yes', 'loan_no', 'loan_yes', 'contact_cellular', 'contact_telephone', 'contact_unknown', 'month_apr', 'month_aug', 'month_dec', 'month_feb', 'month_jan', 'month_jul', 'month_jun', 'month_mar', 'month_may', 'month_nov', 'month_oct', 'month_sep', 'poutcome_failure', 'poutcome_other', 'poutcome_success', 'poutcome_unknown', 'y_no', 'y_yes']\n"
          ]
        }
      ]
    },
    {
      "cell_type": "markdown",
      "source": [
        "#### **Classification I - LinearSVC**"
      ],
      "metadata": {
        "id": "SM19RqSfeW7H"
      }
    },
    {
      "cell_type": "code",
      "source": [
        "from sklearn import pipeline\n",
        "from sklearn.pipeline import Pipeline\n",
        "from sklearn.svm import LinearSVC\n",
        "from sklearn.neighbors import KNeighborsClassifier\n",
        "from sklearn.preprocessing import StandardScaler\n",
        "from sklearn.metrics import confusion_matrix, accuracy_score, classification_report"
      ],
      "metadata": {
        "id": "WoVKXjD4e5ub"
      },
      "execution_count": 10,
      "outputs": []
    },
    {
      "cell_type": "code",
      "source": [
        "# Extract NumPy arrays\n",
        "X_train = train_dummies.iloc[:,:-2].values\n",
        "y_train = df_train['y']\n",
        "X_test = test_dummies.values\n",
        "y_test = df_testlabel['y']"
      ],
      "metadata": {
        "id": "xmV5eqEcgnOT"
      },
      "execution_count": 11,
      "outputs": []
    },
    {
      "cell_type": "code",
      "source": [
        "# 'Unscaled' result\n",
        "process2 = [('svc', LinearSVC(max_iter=1000))]\n",
        "pipeline2 = Pipeline(process2)\n",
        "params_grid = {'svc__C': [0.01, 0.1, 1, 10]}\n",
        "linear_svc = GridSearchCV(pipeline2, params_grid, cv=5, return_train_score=True)\n",
        "\n",
        "linear_svc.fit(X_train, y_train)\n",
        "\n",
        "print(linear_svc.best_params_)\n",
        "print('Unscaled Training set score: {:.2f}'.format(linear_svc.best_score_))\n",
        "print(\"Unscaled Test set score: {:.2f}\".format(linear_svc.score(X_test, y_test)))"
      ],
      "metadata": {
        "colab": {
          "base_uri": "https://localhost:8080/"
        },
        "id": "fPkH2-NBuUa1",
        "outputId": "6cefd969-b908-458a-9a1d-de3dc3581a68"
      },
      "execution_count": 12,
      "outputs": [
        {
          "output_type": "stream",
          "name": "stderr",
          "text": [
            "/usr/local/lib/python3.8/dist-packages/sklearn/svm/_base.py:1206: ConvergenceWarning: Liblinear failed to converge, increase the number of iterations.\n",
            "  warnings.warn(\n",
            "/usr/local/lib/python3.8/dist-packages/sklearn/svm/_base.py:1206: ConvergenceWarning: Liblinear failed to converge, increase the number of iterations.\n",
            "  warnings.warn(\n",
            "/usr/local/lib/python3.8/dist-packages/sklearn/svm/_base.py:1206: ConvergenceWarning: Liblinear failed to converge, increase the number of iterations.\n",
            "  warnings.warn(\n",
            "/usr/local/lib/python3.8/dist-packages/sklearn/svm/_base.py:1206: ConvergenceWarning: Liblinear failed to converge, increase the number of iterations.\n",
            "  warnings.warn(\n",
            "/usr/local/lib/python3.8/dist-packages/sklearn/svm/_base.py:1206: ConvergenceWarning: Liblinear failed to converge, increase the number of iterations.\n",
            "  warnings.warn(\n",
            "/usr/local/lib/python3.8/dist-packages/sklearn/svm/_base.py:1206: ConvergenceWarning: Liblinear failed to converge, increase the number of iterations.\n",
            "  warnings.warn(\n",
            "/usr/local/lib/python3.8/dist-packages/sklearn/svm/_base.py:1206: ConvergenceWarning: Liblinear failed to converge, increase the number of iterations.\n",
            "  warnings.warn(\n",
            "/usr/local/lib/python3.8/dist-packages/sklearn/svm/_base.py:1206: ConvergenceWarning: Liblinear failed to converge, increase the number of iterations.\n",
            "  warnings.warn(\n",
            "/usr/local/lib/python3.8/dist-packages/sklearn/svm/_base.py:1206: ConvergenceWarning: Liblinear failed to converge, increase the number of iterations.\n",
            "  warnings.warn(\n",
            "/usr/local/lib/python3.8/dist-packages/sklearn/svm/_base.py:1206: ConvergenceWarning: Liblinear failed to converge, increase the number of iterations.\n",
            "  warnings.warn(\n",
            "/usr/local/lib/python3.8/dist-packages/sklearn/svm/_base.py:1206: ConvergenceWarning: Liblinear failed to converge, increase the number of iterations.\n",
            "  warnings.warn(\n",
            "/usr/local/lib/python3.8/dist-packages/sklearn/svm/_base.py:1206: ConvergenceWarning: Liblinear failed to converge, increase the number of iterations.\n",
            "  warnings.warn(\n",
            "/usr/local/lib/python3.8/dist-packages/sklearn/svm/_base.py:1206: ConvergenceWarning: Liblinear failed to converge, increase the number of iterations.\n",
            "  warnings.warn(\n",
            "/usr/local/lib/python3.8/dist-packages/sklearn/svm/_base.py:1206: ConvergenceWarning: Liblinear failed to converge, increase the number of iterations.\n",
            "  warnings.warn(\n",
            "/usr/local/lib/python3.8/dist-packages/sklearn/svm/_base.py:1206: ConvergenceWarning: Liblinear failed to converge, increase the number of iterations.\n",
            "  warnings.warn(\n",
            "/usr/local/lib/python3.8/dist-packages/sklearn/svm/_base.py:1206: ConvergenceWarning: Liblinear failed to converge, increase the number of iterations.\n",
            "  warnings.warn(\n",
            "/usr/local/lib/python3.8/dist-packages/sklearn/svm/_base.py:1206: ConvergenceWarning: Liblinear failed to converge, increase the number of iterations.\n",
            "  warnings.warn(\n",
            "/usr/local/lib/python3.8/dist-packages/sklearn/svm/_base.py:1206: ConvergenceWarning: Liblinear failed to converge, increase the number of iterations.\n",
            "  warnings.warn(\n",
            "/usr/local/lib/python3.8/dist-packages/sklearn/svm/_base.py:1206: ConvergenceWarning: Liblinear failed to converge, increase the number of iterations.\n",
            "  warnings.warn(\n",
            "/usr/local/lib/python3.8/dist-packages/sklearn/svm/_base.py:1206: ConvergenceWarning: Liblinear failed to converge, increase the number of iterations.\n",
            "  warnings.warn(\n"
          ]
        },
        {
          "output_type": "stream",
          "name": "stdout",
          "text": [
            "{'svc__C': 1}\n",
            "Unscaled Training set score: 0.57\n",
            "Unscaled Test set score: 0.69\n"
          ]
        },
        {
          "output_type": "stream",
          "name": "stderr",
          "text": [
            "/usr/local/lib/python3.8/dist-packages/sklearn/svm/_base.py:1206: ConvergenceWarning: Liblinear failed to converge, increase the number of iterations.\n",
            "  warnings.warn(\n"
          ]
        }
      ]
    },
    {
      "cell_type": "code",
      "source": [
        "# 'Scaled' result\n",
        "process = [('scaler', StandardScaler()), ('svc', LinearSVC(max_iter=1000))]\n",
        "pipeline = Pipeline(process)\n",
        "params_grid = {'svc__C': [0.01, 0.1, 1, 10]}\n",
        "linear_svc = GridSearchCV(pipeline, params_grid, cv=5, return_train_score=True)\n",
        "\n",
        "linear_svc.fit(X_train, y_train)\n",
        "\n",
        "print(linear_svc.best_params_)\n",
        "print('Scaled Training set score: {:.2f}'.format(linear_svc.best_score_))\n",
        "print(\"Scaled Test set score: {:.2f}\".format(linear_svc.score(X_test, y_test)))"
      ],
      "metadata": {
        "colab": {
          "base_uri": "https://localhost:8080/"
        },
        "id": "WZhRqUZGHA-6",
        "outputId": "4c096c47-5ff8-4fb6-d5ab-bd1e7eb45557"
      },
      "execution_count": 13,
      "outputs": [
        {
          "output_type": "stream",
          "name": "stderr",
          "text": [
            "/usr/local/lib/python3.8/dist-packages/sklearn/svm/_base.py:1206: ConvergenceWarning: Liblinear failed to converge, increase the number of iterations.\n",
            "  warnings.warn(\n",
            "/usr/local/lib/python3.8/dist-packages/sklearn/svm/_base.py:1206: ConvergenceWarning: Liblinear failed to converge, increase the number of iterations.\n",
            "  warnings.warn(\n",
            "/usr/local/lib/python3.8/dist-packages/sklearn/svm/_base.py:1206: ConvergenceWarning: Liblinear failed to converge, increase the number of iterations.\n",
            "  warnings.warn(\n",
            "/usr/local/lib/python3.8/dist-packages/sklearn/svm/_base.py:1206: ConvergenceWarning: Liblinear failed to converge, increase the number of iterations.\n",
            "  warnings.warn(\n",
            "/usr/local/lib/python3.8/dist-packages/sklearn/svm/_base.py:1206: ConvergenceWarning: Liblinear failed to converge, increase the number of iterations.\n",
            "  warnings.warn(\n",
            "/usr/local/lib/python3.8/dist-packages/sklearn/svm/_base.py:1206: ConvergenceWarning: Liblinear failed to converge, increase the number of iterations.\n",
            "  warnings.warn(\n",
            "/usr/local/lib/python3.8/dist-packages/sklearn/svm/_base.py:1206: ConvergenceWarning: Liblinear failed to converge, increase the number of iterations.\n",
            "  warnings.warn(\n",
            "/usr/local/lib/python3.8/dist-packages/sklearn/svm/_base.py:1206: ConvergenceWarning: Liblinear failed to converge, increase the number of iterations.\n",
            "  warnings.warn(\n",
            "/usr/local/lib/python3.8/dist-packages/sklearn/svm/_base.py:1206: ConvergenceWarning: Liblinear failed to converge, increase the number of iterations.\n",
            "  warnings.warn(\n",
            "/usr/local/lib/python3.8/dist-packages/sklearn/svm/_base.py:1206: ConvergenceWarning: Liblinear failed to converge, increase the number of iterations.\n",
            "  warnings.warn(\n",
            "/usr/local/lib/python3.8/dist-packages/sklearn/svm/_base.py:1206: ConvergenceWarning: Liblinear failed to converge, increase the number of iterations.\n",
            "  warnings.warn(\n",
            "/usr/local/lib/python3.8/dist-packages/sklearn/svm/_base.py:1206: ConvergenceWarning: Liblinear failed to converge, increase the number of iterations.\n",
            "  warnings.warn(\n",
            "/usr/local/lib/python3.8/dist-packages/sklearn/svm/_base.py:1206: ConvergenceWarning: Liblinear failed to converge, increase the number of iterations.\n",
            "  warnings.warn(\n",
            "/usr/local/lib/python3.8/dist-packages/sklearn/svm/_base.py:1206: ConvergenceWarning: Liblinear failed to converge, increase the number of iterations.\n",
            "  warnings.warn(\n",
            "/usr/local/lib/python3.8/dist-packages/sklearn/svm/_base.py:1206: ConvergenceWarning: Liblinear failed to converge, increase the number of iterations.\n",
            "  warnings.warn(\n"
          ]
        },
        {
          "output_type": "stream",
          "name": "stdout",
          "text": [
            "{'svc__C': 0.1}\n",
            "Scaled Training set score: 0.77\n",
            "Scaled Test set score: 0.78\n"
          ]
        },
        {
          "output_type": "stream",
          "name": "stderr",
          "text": [
            "/usr/local/lib/python3.8/dist-packages/sklearn/svm/_base.py:1206: ConvergenceWarning: Liblinear failed to converge, increase the number of iterations.\n",
            "  warnings.warn(\n"
          ]
        }
      ]
    },
    {
      "cell_type": "markdown",
      "source": [
        "##### Linear SVC Evaluation Metrics"
      ],
      "metadata": {
        "id": "Ay_UyDYLjbD5"
      }
    },
    {
      "cell_type": "code",
      "source": [
        "y_pred_linearsvc = linear_svc.predict(X_test)\n",
        "\n",
        "print('Confusion matrix:\\n{}'.format(confusion_matrix(y_test, y_pred_linearsvc)))\n",
        "print('Accuracy: {}'.format(accuracy_score(y_test, y_pred_linearsvc)))\n",
        "print(classification_report(y_test, y_pred_linearsvc))"
      ],
      "metadata": {
        "colab": {
          "base_uri": "https://localhost:8080/"
        },
        "id": "NDt2hXuZjN7G",
        "outputId": "35f5fc11-a690-44f2-ab0d-9a19e163ae3f"
      },
      "execution_count": 14,
      "outputs": [
        {
          "output_type": "stream",
          "name": "stdout",
          "text": [
            "Confusion matrix:\n",
            "[[2789  180]\n",
            " [ 759  563]]\n",
            "Accuracy: 0.7811698904684223\n",
            "              precision    recall  f1-score   support\n",
            "\n",
            "          no       0.79      0.94      0.86      2969\n",
            "         yes       0.76      0.43      0.55      1322\n",
            "\n",
            "    accuracy                           0.78      4291\n",
            "   macro avg       0.77      0.68      0.70      4291\n",
            "weighted avg       0.78      0.78      0.76      4291\n",
            "\n"
          ]
        }
      ]
    },
    {
      "cell_type": "markdown",
      "source": [
        "##### **Linear Support Vector Classification result analysis**\n",
        "\n",
        "By using scaled dataset, the training score(0.77) performs a lot better than unscaled result(0.69). While trying some hyperparamters during GridSearchCV, we found that the optimal value for C is 1. Also, we can conclude that this is a good model since scaled test and training set score are similar with high accuracy(0.78)."
      ],
      "metadata": {
        "id": "m1uq4XAPb-zF"
      }
    },
    {
      "cell_type": "markdown",
      "source": [
        "#### **Classification II - LogisticRegression**"
      ],
      "metadata": {
        "id": "EVeR_kTsfEBw"
      }
    },
    {
      "cell_type": "code",
      "source": [
        "# 'UnsScaled' result\n",
        "process4 = [('logistic', LogisticRegression(max_iter=100000))]\n",
        "pipeline = Pipeline(process4)\n",
        "params_grid = {'logistic__C': [0.01, 0.1, 1, 10, 100]} \n",
        "log_reg = GridSearchCV(pipeline, params_grid, cv=5, return_train_score=True)\n",
        "\n",
        "log_reg.fit(X_train, y_train)\n",
        "\n",
        "print(log_reg.best_params_)\n",
        "print('UnScaled Training set score: {:.2f}'.format(log_reg.best_score_))\n",
        "print(\"Unscaled Test set score: {:.2f}\".format(log_reg.score(X_test, y_test)))"
      ],
      "metadata": {
        "colab": {
          "base_uri": "https://localhost:8080/"
        },
        "id": "wOQMsIK9hBHP",
        "outputId": "89f7237a-761b-43c9-87f1-7bfb8ee61a87"
      },
      "execution_count": 15,
      "outputs": [
        {
          "output_type": "stream",
          "name": "stdout",
          "text": [
            "{'logistic__C': 1}\n",
            "UnScaled Training set score: 0.74\n",
            "Unscaled Test set score: 0.71\n"
          ]
        }
      ]
    },
    {
      "cell_type": "code",
      "source": [
        "# 'Scaled' result\n",
        "process3 = [('scaler', StandardScaler()), ('logistic', LogisticRegression(max_iter=100000))]\n",
        "pipeline = Pipeline(process3)\n",
        "params_grid = {'logistic__C': [0.01, 0.1, 1, 10, 100]} \n",
        "log_reg = GridSearchCV(pipeline, params_grid, cv=5, return_train_score=True)\n",
        "\n",
        "log_reg.fit(X_train, y_train)\n",
        "\n",
        "print(log_reg.best_params_)\n",
        "print('Scaled Training set score: {:.2f}'.format(log_reg.best_score_))\n",
        "print(\"Scaled Test set score: {:.2f}\".format(log_reg.score(X_test, y_test)))"
      ],
      "metadata": {
        "colab": {
          "base_uri": "https://localhost:8080/"
        },
        "id": "FI1i-Tdjgj9A",
        "outputId": "e25bcd36-486f-4aaf-be82-e96d79cb06fc"
      },
      "execution_count": 16,
      "outputs": [
        {
          "output_type": "stream",
          "name": "stdout",
          "text": [
            "{'logistic__C': 10}\n",
            "Scaled Training set score: 0.77\n",
            "Scaled Test set score: 0.78\n"
          ]
        }
      ]
    },
    {
      "cell_type": "markdown",
      "source": [
        "##### Logistics Regression Evaluation Metrics"
      ],
      "metadata": {
        "id": "kzZYsCwNFOPm"
      }
    },
    {
      "cell_type": "code",
      "source": [
        "y_pred_logreg = log_reg.predict(X_test)\n",
        "\n",
        "print('Confusion matrix:\\n{}'.format(confusion_matrix(y_test, y_pred_logreg)))\n",
        "print('Accuracy: {}'.format(accuracy_score(y_test, y_pred_logreg)))\n",
        "print(classification_report(y_test, y_pred_logreg))"
      ],
      "metadata": {
        "colab": {
          "base_uri": "https://localhost:8080/"
        },
        "id": "9ZULwq0R-GO9",
        "outputId": "965107a4-4f68-464a-a657-efbdc6a4d645"
      },
      "execution_count": 17,
      "outputs": [
        {
          "output_type": "stream",
          "name": "stdout",
          "text": [
            "Confusion matrix:\n",
            "[[2740  229]\n",
            " [ 722  600]]\n",
            "Accuracy: 0.7783733395478909\n",
            "              precision    recall  f1-score   support\n",
            "\n",
            "          no       0.79      0.92      0.85      2969\n",
            "         yes       0.72      0.45      0.56      1322\n",
            "\n",
            "    accuracy                           0.78      4291\n",
            "   macro avg       0.76      0.69      0.71      4291\n",
            "weighted avg       0.77      0.78      0.76      4291\n",
            "\n"
          ]
        }
      ]
    },
    {
      "cell_type": "markdown",
      "source": [
        "##### **Logistic Regression Classification result analysis**\n",
        "\n",
        "With the scaled dataset, the training score(0.77) performs better than unscaled result(0.74). By trying some hyperparamters during GridSearchCV, we found that the optimal value for C is 10. Also, we can conclude that this model isn't overfitting nor underfitting since scaled test and training set score are similar with high accuracy(0.78).\n"
      ],
      "metadata": {
        "id": "eF6RnRrgnvVl"
      }
    },
    {
      "cell_type": "markdown",
      "source": [
        "#### **Classification III - KNeighborsClassifier**"
      ],
      "metadata": {
        "id": "Jwzps0Rgivh1"
      }
    },
    {
      "cell_type": "code",
      "source": [
        "# 'Unscaled' result\n",
        "knn_process2 = [('knn', KNeighborsClassifier())]\n",
        "knn_pipe = Pipeline(knn_process2)\n",
        "\n",
        "params_grid = {'knn__n_neighbors': range(1, 21)}\n",
        "knn_grid = GridSearchCV(knn_pipe, params_grid, cv=5, return_train_score=True)\n",
        "\n",
        "knn_grid.fit(X_train, y_train)\n",
        "\n",
        "print(knn_grid.best_params_)\n",
        "print('Unscaled Training set score: {:.2f}'.format(knn_grid.best_score_))\n",
        "print(\"Unscaled Test set score: {:.2f}\".format(knn_grid.score(X_test, y_test)))"
      ],
      "metadata": {
        "colab": {
          "base_uri": "https://localhost:8080/"
        },
        "id": "F5biXJogNDux",
        "outputId": "4cac48e5-60f4-476a-d0c2-24c8e9f595fe"
      },
      "execution_count": 18,
      "outputs": [
        {
          "output_type": "stream",
          "name": "stdout",
          "text": [
            "{'knn__n_neighbors': 14}\n",
            "Unscaled Training set score: 0.68\n",
            "Unscaled Test set score: 0.69\n"
          ]
        }
      ]
    },
    {
      "cell_type": "code",
      "source": [
        "# 'scaled' result\n",
        "knn_process = [('scaler', StandardScaler()), ('knn', KNeighborsClassifier())]\n",
        "knn_pipe = Pipeline(knn_process)\n",
        "\n",
        "params_grid = {'knn__n_neighbors': range(1, 31)}\n",
        "knn_grid = GridSearchCV(knn_pipe, params_grid, cv=5, return_train_score=True)\n",
        "\n",
        "knn_grid.fit(X_train, y_train)\n",
        "\n",
        "print(knn_grid.best_params_)\n",
        "print('Scaled Training set score: {:.2f}'.format(knn_grid.best_score_))\n",
        "print(\"Scaled Test set score: {:.2f}\".format(knn_grid.score(X_test, y_test)))"
      ],
      "metadata": {
        "id": "lk6Hg7Foi811",
        "colab": {
          "base_uri": "https://localhost:8080/"
        },
        "outputId": "9f5c008a-e396-4a21-b6f8-888d3ce31f89"
      },
      "execution_count": 19,
      "outputs": [
        {
          "output_type": "stream",
          "name": "stdout",
          "text": [
            "{'knn__n_neighbors': 15}\n",
            "Scaled Training set score: 0.77\n",
            "Scaled Test set score: 0.77\n"
          ]
        }
      ]
    },
    {
      "cell_type": "code",
      "source": [
        "y_pred_knn = knn_grid.predict(X_test)\n",
        "\n",
        "print('Confusion matrix:\\n{}'.format(confusion_matrix(y_test, y_pred_knn)))\n",
        "print('Accuracy: {}'.format(accuracy_score(y_test, y_pred_knn)))\n",
        "print('Report: \\n{}'.format(classification_report(y_test, y_pred_knn)))"
      ],
      "metadata": {
        "colab": {
          "base_uri": "https://localhost:8080/"
        },
        "id": "hVaMUy23lrlR",
        "outputId": "089c122c-4da7-403b-a159-892b32be0d14"
      },
      "execution_count": 20,
      "outputs": [
        {
          "output_type": "stream",
          "name": "stdout",
          "text": [
            "Confusion matrix:\n",
            "[[2764  205]\n",
            " [ 771  551]]\n",
            "Accuracy: 0.772547191796784\n",
            "Report: \n",
            "              precision    recall  f1-score   support\n",
            "\n",
            "          no       0.78      0.93      0.85      2969\n",
            "         yes       0.73      0.42      0.53      1322\n",
            "\n",
            "    accuracy                           0.77      4291\n",
            "   macro avg       0.76      0.67      0.69      4291\n",
            "weighted avg       0.77      0.77      0.75      4291\n",
            "\n"
          ]
        }
      ]
    },
    {
      "cell_type": "markdown",
      "source": [
        "##### **K-Neighbors Classifier analysis**\n",
        "\n",
        "With the scaled dataset, the training score(0.77) performs better than unscaled result(0.68). By trying n_neighbors from 1 to 31 during GridSearchCV, we found that the optimal KNN n_neighbors is 15. Also, we can conclude that this model isn't overfitting nor underfitting since scaled test and training set score are extremely similar with high accuracy(0.77)."
      ],
      "metadata": {
        "id": "rkpIYGGNZ8gA"
      }
    },
    {
      "cell_type": "markdown",
      "source": [
        "## **Part B**"
      ],
      "metadata": {
        "id": "GF3xV2jZSO6m"
      }
    },
    {
      "cell_type": "markdown",
      "source": [
        "## **Decision Tree Classifier**"
      ],
      "metadata": {
        "id": "xntsXFdLSTM0"
      }
    },
    {
      "cell_type": "code",
      "source": [
        "tree = DecisionTreeClassifier(random_state = 0)\n",
        "tree.fit(X_train, y_train)\n",
        "print(\"Accuracy on training set : {:.3f}\".format(tree.score(X_train, y_train)))\n",
        "print(\"Accuracy on test set : {:.3f}\".format(tree.score(X_test, y_test)))"
      ],
      "metadata": {
        "colab": {
          "base_uri": "https://localhost:8080/"
        },
        "id": "ntP0sRJOSjW6",
        "outputId": "b2817643-8b59-4bb5-a065-b8d14c7b975f"
      },
      "execution_count": 21,
      "outputs": [
        {
          "output_type": "stream",
          "name": "stdout",
          "text": [
            "Accuracy on training set : 1.000\n",
            "Accuracy on test set : 0.602\n"
          ]
        }
      ]
    },
    {
      "cell_type": "code",
      "source": [
        "print(\"Feature importances:\\n{}\".format(tree.feature_importances_))"
      ],
      "metadata": {
        "colab": {
          "base_uri": "https://localhost:8080/"
        },
        "id": "fuXjUxl_TLDQ",
        "outputId": "0d08f948-ffd6-446c-a2c3-a5cdb235fc35"
      },
      "execution_count": 22,
      "outputs": [
        {
          "output_type": "stream",
          "name": "stdout",
          "text": [
            "Feature importances:\n",
            "[0.13459902 0.11670662 0.13978085 0.0930618  0.04727234 0.03733872\n",
            " 0.01704717 0.00751603 0.00784722 0.00409917 0.00125477 0.01253959\n",
            " 0.00333712 0.00650244 0.00594554 0.00481634 0.01400586 0.00582497\n",
            " 0.00090161 0.00398912 0.00942914 0.00941791 0.00521332 0.0092942\n",
            " 0.01112592 0.00511612 0.0018054  0.00198235 0.00649068 0.01063933\n",
            " 0.00504485 0.00635063 0.00389562 0.0048701  0.03271907 0.00734868\n",
            " 0.00617025 0.00509775 0.00921796 0.00470783 0.00427834 0.01708326\n",
            " 0.01335339 0.00500178 0.01038952 0.01401109 0.00996711 0.00422964\n",
            " 0.00134058 0.09704473 0.00297716]\n"
          ]
        }
      ]
    },
    {
      "cell_type": "code",
      "source": [
        "plt.rcParams[\"figure.figsize\"] = (7,12)\n",
        "plt.barh(range(51), tree.feature_importances_)\n",
        "plt.yticks(range(51), train_dummies.iloc[:,:-2].keys())\n",
        "plt.show()"
      ],
      "metadata": {
        "colab": {
          "base_uri": "https://localhost:8080/",
          "height": 700
        },
        "id": "IiX8rNY1TN-O",
        "outputId": "d1d116de-e7d2-451a-d035-1ed67c71633f"
      },
      "execution_count": 23,
      "outputs": [
        {
          "output_type": "display_data",
          "data": {
            "text/plain": [
              "<Figure size 504x864 with 1 Axes>"
            ],
            "image/png": "[encoded data removed]"
          },
          "metadata": {
            "needs_background": "light"
          }
        }
      ]
    },
    {
      "cell_type": "markdown",
      "source": [
        "Most important features: balance, age, ID, campaign, poutcome_success, pdays, contact_unknown. Other ones are similarly less important."
      ],
      "metadata": {
        "id": "QWbdQyNkTQst"
      }
    },
    {
      "cell_type": "code",
      "source": [
        "from sklearn.tree import export_graphviz\n",
        "tree_dot = export_graphviz(tree, out_file=None, feature_names=train_dummies.iloc[:,:-2].keys(), max_depth=3)\n",
        "import graphviz\n",
        "graphviz.Source(tree_dot)"
      ],
      "metadata": {
        "colab": {
          "base_uri": "https://localhost:8080/",
          "height": 655
        },
        "id": "OOmFc4xkTTod",
        "outputId": "e09a1d3b-49da-4678-ac48-eccbf2452e34"
      },
      "execution_count": 24,
      "outputs": [
        {
          "output_type": "execute_result",
          "data": {
            "text/plain": [
              "<graphviz.files.Source at 0x7fc2032bf940>"
            ],
            "image/svg+xml": "<?xml version=\"1.0\" encoding=\"UTF-8\" standalone=\"no\"?>\n<!DOCTYPE svg PUBLIC \"-//W3C//DTD SVG 1.1//EN\"\n \"http://www.w3.org/Graphics/SVG/1.1/DTD/svg11.dtd\">\n<!-- Generated by graphviz version 2.40.1 (20161225.0304)\n -->\n<!-- Title: Tree Pages: 1 -->\n<svg width=\"1165pt\" height=\"460pt\"\n viewBox=\"0.00 0.00 1165.00 460.00\" xmlns=\"http://www.w3.org/2000/svg\" xmlns:xlink=\"http://www.w3.org/1999/xlink\">\n<g id=\"graph0\" class=\"graph\" transform=\"scale(1 1) rotate(0) translate(4 456)\">\n<title>Tree</title>\n<polygon fill=\"#ffffff\" stroke=\"transparent\" points=\"-4,4 -4,-456 1161,-456 1161,4 -4,4\"/>\n<!-- 0 -->\n<g id=\"node1\" class=\"node\">\n<title>0</title>\n<polygon fill=\"none\" stroke=\"#000000\" points=\"716.5,-452 528.5,-452 528.5,-384 716.5,-384 716.5,-452\"/>\n<text text-anchor=\"middle\" x=\"622.5\" y=\"-436.8\" font-family=\"Helvetica,sans-Serif\" font-size=\"14.00\" fill=\"#000000\">poutcome_success &lt;= 0.5</text>\n<text text-anchor=\"middle\" x=\"622.5\" y=\"-421.8\" font-family=\"Helvetica,sans-Serif\" font-size=\"14.00\" fill=\"#000000\">gini = 0.426</text>\n<text text-anchor=\"middle\" x=\"622.5\" y=\"-406.8\" font-family=\"Helvetica,sans-Serif\" font-size=\"14.00\" fill=\"#000000\">samples = 12870</text>\n<text text-anchor=\"middle\" x=\"622.5\" y=\"-391.8\" font-family=\"Helvetica,sans-Serif\" font-size=\"14.00\" fill=\"#000000\">value = [8903, 3967]</text>\n</g>\n<!-- 1 -->\n<g id=\"node2\" class=\"node\">\n<title>1</title>\n<polygon fill=\"none\" stroke=\"#000000\" points=\"556.5,-348 380.5,-348 380.5,-280 556.5,-280 556.5,-348\"/>\n<text text-anchor=\"middle\" x=\"468.5\" y=\"-332.8\" font-family=\"Helvetica,sans-Serif\" font-size=\"14.00\" fill=\"#000000\">contact_unknown &lt;= 0.5</text>\n<text text-anchor=\"middle\" x=\"468.5\" y=\"-317.8\" font-family=\"Helvetica,sans-Serif\" font-size=\"14.00\" fill=\"#000000\">gini = 0.394</text>\n<text text-anchor=\"middle\" x=\"468.5\" y=\"-302.8\" font-family=\"Helvetica,sans-Serif\" font-size=\"14.00\" fill=\"#000000\">samples = 12025</text>\n<text text-anchor=\"middle\" x=\"468.5\" y=\"-287.8\" font-family=\"Helvetica,sans-Serif\" font-size=\"14.00\" fill=\"#000000\">value = [8777, 3248]</text>\n</g>\n<!-- 0&#45;&gt;1 -->\n<g id=\"edge1\" class=\"edge\">\n<title>0&#45;&gt;1</title>\n<path fill=\"none\" stroke=\"#000000\" d=\"M572.0746,-383.9465C557.8488,-374.3395 542.2437,-363.8009 527.5602,-353.8848\"/>\n<polygon fill=\"#000000\" stroke=\"#000000\" points=\"529.2847,-350.8261 519.0386,-348.13 525.3671,-356.6272 529.2847,-350.8261\"/>\n<text text-anchor=\"middle\" x=\"523.7951\" y=\"-368.9733\" font-family=\"Helvetica,sans-Serif\" font-size=\"14.00\" fill=\"#000000\">True</text>\n</g>\n<!-- 4788 -->\n<g id=\"node17\" class=\"node\">\n<title>4788</title>\n<polygon fill=\"none\" stroke=\"#000000\" points=\"837.5,-348 705.5,-348 705.5,-280 837.5,-280 837.5,-348\"/>\n<text text-anchor=\"middle\" x=\"771.5\" y=\"-332.8\" font-family=\"Helvetica,sans-Serif\" font-size=\"14.00\" fill=\"#000000\">campaign &lt;= 6.5</text>\n<text text-anchor=\"middle\" x=\"771.5\" y=\"-317.8\" font-family=\"Helvetica,sans-Serif\" font-size=\"14.00\" fill=\"#000000\">gini = 0.254</text>\n<text text-anchor=\"middle\" x=\"771.5\" y=\"-302.8\" font-family=\"Helvetica,sans-Serif\" font-size=\"14.00\" fill=\"#000000\">samples = 845</text>\n<text text-anchor=\"middle\" x=\"771.5\" y=\"-287.8\" font-family=\"Helvetica,sans-Serif\" font-size=\"14.00\" fill=\"#000000\">value = [126, 719]</text>\n</g>\n<!-- 0&#45;&gt;4788 -->\n<g id=\"edge16\" class=\"edge\">\n<title>0&#45;&gt;4788</title>\n<path fill=\"none\" stroke=\"#000000\" d=\"M671.2882,-383.9465C685.0521,-374.3395 700.1506,-363.8009 714.3574,-353.8848\"/>\n<polygon fill=\"#000000\" stroke=\"#000000\" points=\"716.4054,-356.7236 722.6022,-348.13 712.3989,-350.9835 716.4054,-356.7236\"/>\n<text text-anchor=\"middle\" x=\"718.2243\" y=\"-369.0437\" font-family=\"Helvetica,sans-Serif\" font-size=\"14.00\" fill=\"#000000\">False</text>\n</g>\n<!-- 2 -->\n<g id=\"node3\" class=\"node\">\n<title>2</title>\n<polygon fill=\"none\" stroke=\"#000000\" points=\"309,-244 160,-244 160,-176 309,-176 309,-244\"/>\n<text text-anchor=\"middle\" x=\"234.5\" y=\"-228.8\" font-family=\"Helvetica,sans-Serif\" font-size=\"14.00\" fill=\"#000000\">age &lt;= 60.5</text>\n<text text-anchor=\"middle\" x=\"234.5\" y=\"-213.8\" font-family=\"Helvetica,sans-Serif\" font-size=\"14.00\" fill=\"#000000\">gini = 0.437</text>\n<text text-anchor=\"middle\" x=\"234.5\" y=\"-198.8\" font-family=\"Helvetica,sans-Serif\" font-size=\"14.00\" fill=\"#000000\">samples = 8790</text>\n<text text-anchor=\"middle\" x=\"234.5\" y=\"-183.8\" font-family=\"Helvetica,sans-Serif\" font-size=\"14.00\" fill=\"#000000\">value = [5955, 2835]</text>\n</g>\n<!-- 1&#45;&gt;2 -->\n<g id=\"edge2\" class=\"edge\">\n<title>1&#45;&gt;2</title>\n<path fill=\"none\" stroke=\"#000000\" d=\"M391.8796,-279.9465C368.4634,-269.5393 342.5875,-258.0389 318.6968,-247.4208\"/>\n<polygon fill=\"#000000\" stroke=\"#000000\" points=\"319.8578,-244.1067 309.2982,-243.2436 317.0148,-250.5034 319.8578,-244.1067\"/>\n</g>\n<!-- 3775 -->\n<g id=\"node10\" class=\"node\">\n<title>3775</title>\n<polygon fill=\"none\" stroke=\"#000000\" points=\"538.5,-244 398.5,-244 398.5,-176 538.5,-176 538.5,-244\"/>\n<text text-anchor=\"middle\" x=\"468.5\" y=\"-228.8\" font-family=\"Helvetica,sans-Serif\" font-size=\"14.00\" fill=\"#000000\">month_oct &lt;= 0.5</text>\n<text text-anchor=\"middle\" x=\"468.5\" y=\"-213.8\" font-family=\"Helvetica,sans-Serif\" font-size=\"14.00\" fill=\"#000000\">gini = 0.223</text>\n<text text-anchor=\"middle\" x=\"468.5\" y=\"-198.8\" font-family=\"Helvetica,sans-Serif\" font-size=\"14.00\" fill=\"#000000\">samples = 3235</text>\n<text text-anchor=\"middle\" x=\"468.5\" y=\"-183.8\" font-family=\"Helvetica,sans-Serif\" font-size=\"14.00\" fill=\"#000000\">value = [2822, 413]</text>\n</g>\n<!-- 1&#45;&gt;3775 -->\n<g id=\"edge9\" class=\"edge\">\n<title>1&#45;&gt;3775</title>\n<path fill=\"none\" stroke=\"#000000\" d=\"M468.5,-279.9465C468.5,-271.776 468.5,-262.9318 468.5,-254.3697\"/>\n<polygon fill=\"#000000\" stroke=\"#000000\" points=\"472.0001,-254.13 468.5,-244.13 465.0001,-254.13 472.0001,-254.13\"/>\n</g>\n<!-- 3 -->\n<g id=\"node4\" class=\"node\">\n<title>3</title>\n<polygon fill=\"none\" stroke=\"#000000\" points=\"149,-140 0,-140 0,-72 149,-72 149,-140\"/>\n<text text-anchor=\"middle\" x=\"74.5\" y=\"-124.8\" font-family=\"Helvetica,sans-Serif\" font-size=\"14.00\" fill=\"#000000\">month_jun &lt;= 0.5</text>\n<text text-anchor=\"middle\" x=\"74.5\" y=\"-109.8\" font-family=\"Helvetica,sans-Serif\" font-size=\"14.00\" fill=\"#000000\">gini = 0.424</text>\n<text text-anchor=\"middle\" x=\"74.5\" y=\"-94.8\" font-family=\"Helvetica,sans-Serif\" font-size=\"14.00\" fill=\"#000000\">samples = 8365</text>\n<text text-anchor=\"middle\" x=\"74.5\" y=\"-79.8\" font-family=\"Helvetica,sans-Serif\" font-size=\"14.00\" fill=\"#000000\">value = [5813, 2552]</text>\n</g>\n<!-- 2&#45;&gt;3 -->\n<g id=\"edge3\" class=\"edge\">\n<title>2&#45;&gt;3</title>\n<path fill=\"none\" stroke=\"#000000\" d=\"M182.11,-175.9465C167.1918,-166.2497 150.8136,-155.6039 135.4338,-145.6069\"/>\n<polygon fill=\"#000000\" stroke=\"#000000\" points=\"137.2996,-142.6454 127.0077,-140.13 133.4847,-148.5145 137.2996,-142.6454\"/>\n</g>\n<!-- 3566 -->\n<g id=\"node7\" class=\"node\">\n<title>3566</title>\n<polygon fill=\"none\" stroke=\"#000000\" points=\"301.5,-140 167.5,-140 167.5,-72 301.5,-72 301.5,-140\"/>\n<text text-anchor=\"middle\" x=\"234.5\" y=\"-124.8\" font-family=\"Helvetica,sans-Serif\" font-size=\"14.00\" fill=\"#000000\">month_aug &lt;= 0.5</text>\n<text text-anchor=\"middle\" x=\"234.5\" y=\"-109.8\" font-family=\"Helvetica,sans-Serif\" font-size=\"14.00\" fill=\"#000000\">gini = 0.445</text>\n<text text-anchor=\"middle\" x=\"234.5\" y=\"-94.8\" font-family=\"Helvetica,sans-Serif\" font-size=\"14.00\" fill=\"#000000\">samples = 425</text>\n<text text-anchor=\"middle\" x=\"234.5\" y=\"-79.8\" font-family=\"Helvetica,sans-Serif\" font-size=\"14.00\" fill=\"#000000\">value = [142, 283]</text>\n</g>\n<!-- 2&#45;&gt;3566 -->\n<g id=\"edge6\" class=\"edge\">\n<title>2&#45;&gt;3566</title>\n<path fill=\"none\" stroke=\"#000000\" d=\"M234.5,-175.9465C234.5,-167.776 234.5,-158.9318 234.5,-150.3697\"/>\n<polygon fill=\"#000000\" stroke=\"#000000\" points=\"238.0001,-150.13 234.5,-140.13 231.0001,-150.13 238.0001,-150.13\"/>\n</g>\n<!-- 4 -->\n<g id=\"node5\" class=\"node\">\n<title>4</title>\n<polygon fill=\"none\" stroke=\"#000000\" points=\"96.5,-36 42.5,-36 42.5,0 96.5,0 96.5,-36\"/>\n<text text-anchor=\"middle\" x=\"69.5\" y=\"-14.3\" font-family=\"Helvetica,sans-Serif\" font-size=\"14.00\" fill=\"#000000\">(...)</text>\n</g>\n<!-- 3&#45;&gt;4 -->\n<g id=\"edge4\" class=\"edge\">\n<title>3&#45;&gt;4</title>\n<path fill=\"none\" stroke=\"#000000\" d=\"M72.5669,-71.9769C72.0854,-63.5023 71.5742,-54.5065 71.1102,-46.3388\"/>\n<polygon fill=\"#000000\" stroke=\"#000000\" points=\"74.5954,-45.9773 70.5336,-36.192 67.6066,-46.3744 74.5954,-45.9773\"/>\n</g>\n<!-- 3411 -->\n<g id=\"node6\" class=\"node\">\n<title>3411</title>\n<polygon fill=\"none\" stroke=\"#000000\" points=\"168.5,-36 114.5,-36 114.5,0 168.5,0 168.5,-36\"/>\n<text text-anchor=\"middle\" x=\"141.5\" y=\"-14.3\" font-family=\"Helvetica,sans-Serif\" font-size=\"14.00\" fill=\"#000000\">(...)</text>\n</g>\n<!-- 3&#45;&gt;3411 -->\n<g id=\"edge5\" class=\"edge\">\n<title>3&#45;&gt;3411</title>\n<path fill=\"none\" stroke=\"#000000\" d=\"M100.4039,-71.9769C107.4361,-62.7406 114.9397,-52.8851 121.5848,-44.1573\"/>\n<polygon fill=\"#000000\" stroke=\"#000000\" points=\"124.3763,-46.2686 127.6493,-36.192 118.8068,-42.0282 124.3763,-46.2686\"/>\n</g>\n<!-- 3567 -->\n<g id=\"node8\" class=\"node\">\n<title>3567</title>\n<polygon fill=\"none\" stroke=\"#000000\" points=\"250.5,-36 196.5,-36 196.5,0 250.5,0 250.5,-36\"/>\n<text text-anchor=\"middle\" x=\"223.5\" y=\"-14.3\" font-family=\"Helvetica,sans-Serif\" font-size=\"14.00\" fill=\"#000000\">(...)</text>\n</g>\n<!-- 3566&#45;&gt;3567 -->\n<g id=\"edge7\" class=\"edge\">\n<title>3566&#45;&gt;3567</title>\n<path fill=\"none\" stroke=\"#000000\" d=\"M230.2471,-71.9769C229.1878,-63.5023 228.0633,-54.5065 227.0423,-46.3388\"/>\n<polygon fill=\"#000000\" stroke=\"#000000\" points=\"230.4874,-45.6806 225.774,-36.192 223.5415,-46.5489 230.4874,-45.6806\"/>\n</g>\n<!-- 3734 -->\n<g id=\"node9\" class=\"node\">\n<title>3734</title>\n<polygon fill=\"none\" stroke=\"#000000\" points=\"322.5,-36 268.5,-36 268.5,0 322.5,0 322.5,-36\"/>\n<text text-anchor=\"middle\" x=\"295.5\" y=\"-14.3\" font-family=\"Helvetica,sans-Serif\" font-size=\"14.00\" fill=\"#000000\">(...)</text>\n</g>\n<!-- 3566&#45;&gt;3734 -->\n<g id=\"edge8\" class=\"edge\">\n<title>3566&#45;&gt;3734</title>\n<path fill=\"none\" stroke=\"#000000\" d=\"M258.0842,-71.9769C264.4206,-62.8358 271.1775,-53.0883 277.1809,-44.4276\"/>\n<polygon fill=\"#000000\" stroke=\"#000000\" points=\"280.0692,-46.4045 282.8897,-36.192 274.3162,-42.4166 280.0692,-46.4045\"/>\n</g>\n<!-- 3776 -->\n<g id=\"node11\" class=\"node\">\n<title>3776</title>\n<polygon fill=\"none\" stroke=\"#000000\" points=\"481,-140 320,-140 320,-72 481,-72 481,-140\"/>\n<text text-anchor=\"middle\" x=\"400.5\" y=\"-124.8\" font-family=\"Helvetica,sans-Serif\" font-size=\"14.00\" fill=\"#000000\">marital_married &lt;= 0.5</text>\n<text text-anchor=\"middle\" x=\"400.5\" y=\"-109.8\" font-family=\"Helvetica,sans-Serif\" font-size=\"14.00\" fill=\"#000000\">gini = 0.218</text>\n<text text-anchor=\"middle\" x=\"400.5\" y=\"-94.8\" font-family=\"Helvetica,sans-Serif\" font-size=\"14.00\" fill=\"#000000\">samples = 3214</text>\n<text text-anchor=\"middle\" x=\"400.5\" y=\"-79.8\" font-family=\"Helvetica,sans-Serif\" font-size=\"14.00\" fill=\"#000000\">value = [2813, 401]</text>\n</g>\n<!-- 3775&#45;&gt;3776 -->\n<g id=\"edge10\" class=\"edge\">\n<title>3775&#45;&gt;3776</title>\n<path fill=\"none\" stroke=\"#000000\" d=\"M446.2343,-175.9465C440.5398,-167.2373 434.3448,-157.7626 428.4062,-148.6801\"/>\n<polygon fill=\"#000000\" stroke=\"#000000\" points=\"431.2177,-146.5843 422.8158,-140.13 425.3589,-150.4151 431.2177,-146.5843\"/>\n</g>\n<!-- 4781 -->\n<g id=\"node14\" class=\"node\">\n<title>4781</title>\n<polygon fill=\"none\" stroke=\"#000000\" points=\"628,-140 499,-140 499,-72 628,-72 628,-140\"/>\n<text text-anchor=\"middle\" x=\"563.5\" y=\"-124.8\" font-family=\"Helvetica,sans-Serif\" font-size=\"14.00\" fill=\"#000000\">balance &lt;= 317.0</text>\n<text text-anchor=\"middle\" x=\"563.5\" y=\"-109.8\" font-family=\"Helvetica,sans-Serif\" font-size=\"14.00\" fill=\"#000000\">gini = 0.49</text>\n<text text-anchor=\"middle\" x=\"563.5\" y=\"-94.8\" font-family=\"Helvetica,sans-Serif\" font-size=\"14.00\" fill=\"#000000\">samples = 21</text>\n<text text-anchor=\"middle\" x=\"563.5\" y=\"-79.8\" font-family=\"Helvetica,sans-Serif\" font-size=\"14.00\" fill=\"#000000\">value = [9, 12]</text>\n</g>\n<!-- 3775&#45;&gt;4781 -->\n<g id=\"edge13\" class=\"edge\">\n<title>3775&#45;&gt;4781</title>\n<path fill=\"none\" stroke=\"#000000\" d=\"M499.6066,-175.9465C507.8901,-166.8782 516.9318,-156.9799 525.5379,-147.5585\"/>\n<polygon fill=\"#000000\" stroke=\"#000000\" points=\"528.1633,-149.8739 532.3236,-140.13 522.995,-145.1528 528.1633,-149.8739\"/>\n</g>\n<!-- 3777 -->\n<g id=\"node12\" class=\"node\">\n<title>3777</title>\n<polygon fill=\"none\" stroke=\"#000000\" points=\"410.5,-36 356.5,-36 356.5,0 410.5,0 410.5,-36\"/>\n<text text-anchor=\"middle\" x=\"383.5\" y=\"-14.3\" font-family=\"Helvetica,sans-Serif\" font-size=\"14.00\" fill=\"#000000\">(...)</text>\n</g>\n<!-- 3776&#45;&gt;3777 -->\n<g id=\"edge11\" class=\"edge\">\n<title>3776&#45;&gt;3777</title>\n<path fill=\"none\" stroke=\"#000000\" d=\"M393.9274,-71.9769C392.2718,-63.4071 390.5133,-54.3043 388.9214,-46.0638\"/>\n<polygon fill=\"#000000\" stroke=\"#000000\" points=\"392.3476,-45.3465 387.0144,-36.192 385.4747,-46.6743 392.3476,-45.3465\"/>\n</g>\n<!-- 4242 -->\n<g id=\"node13\" class=\"node\">\n<title>4242</title>\n<polygon fill=\"none\" stroke=\"#000000\" points=\"482.5,-36 428.5,-36 428.5,0 482.5,0 482.5,-36\"/>\n<text text-anchor=\"middle\" x=\"455.5\" y=\"-14.3\" font-family=\"Helvetica,sans-Serif\" font-size=\"14.00\" fill=\"#000000\">(...)</text>\n</g>\n<!-- 3776&#45;&gt;4242 -->\n<g id=\"edge12\" class=\"edge\">\n<title>3776&#45;&gt;4242</title>\n<path fill=\"none\" stroke=\"#000000\" d=\"M421.7644,-71.9769C427.4181,-62.931 433.443,-53.2913 438.8134,-44.6986\"/>\n<polygon fill=\"#000000\" stroke=\"#000000\" points=\"441.798,-46.527 444.13,-36.192 435.862,-42.8169 441.798,-46.527\"/>\n</g>\n<!-- 4782 -->\n<g id=\"node15\" class=\"node\">\n<title>4782</title>\n<polygon fill=\"none\" stroke=\"#000000\" points=\"572.5,-36 518.5,-36 518.5,0 572.5,0 572.5,-36\"/>\n<text text-anchor=\"middle\" x=\"545.5\" y=\"-14.3\" font-family=\"Helvetica,sans-Serif\" font-size=\"14.00\" fill=\"#000000\">(...)</text>\n</g>\n<!-- 4781&#45;&gt;4782 -->\n<g id=\"edge14\" class=\"edge\">\n<title>4781&#45;&gt;4782</title>\n<path fill=\"none\" stroke=\"#000000\" d=\"M556.5407,-71.9769C554.7878,-63.4071 552.9259,-54.3043 551.2403,-46.0638\"/>\n<polygon fill=\"#000000\" stroke=\"#000000\" points=\"554.6541,-45.2877 549.2211,-36.192 547.7961,-46.6905 554.6541,-45.2877\"/>\n</g>\n<!-- 4783 -->\n<g id=\"node16\" class=\"node\">\n<title>4783</title>\n<polygon fill=\"none\" stroke=\"#000000\" points=\"644.5,-36 590.5,-36 590.5,0 644.5,0 644.5,-36\"/>\n<text text-anchor=\"middle\" x=\"617.5\" y=\"-14.3\" font-family=\"Helvetica,sans-Serif\" font-size=\"14.00\" fill=\"#000000\">(...)</text>\n</g>\n<!-- 4781&#45;&gt;4783 -->\n<g id=\"edge15\" class=\"edge\">\n<title>4781&#45;&gt;4783</title>\n<path fill=\"none\" stroke=\"#000000\" d=\"M584.3778,-71.9769C589.8703,-63.0262 595.7195,-53.4941 600.9501,-44.9703\"/>\n<polygon fill=\"#000000\" stroke=\"#000000\" points=\"604.0897,-46.5458 606.3368,-36.192 598.1234,-42.8846 604.0897,-46.5458\"/>\n</g>\n<!-- 4789 -->\n<g id=\"node18\" class=\"node\">\n<title>4789</title>\n<polygon fill=\"none\" stroke=\"#000000\" points=\"840,-244 703,-244 703,-176 840,-176 840,-244\"/>\n<text text-anchor=\"middle\" x=\"771.5\" y=\"-228.8\" font-family=\"Helvetica,sans-Serif\" font-size=\"14.00\" fill=\"#000000\">housing_no &lt;= 0.5</text>\n<text text-anchor=\"middle\" x=\"771.5\" y=\"-213.8\" font-family=\"Helvetica,sans-Serif\" font-size=\"14.00\" fill=\"#000000\">gini = 0.248</text>\n<text text-anchor=\"middle\" x=\"771.5\" y=\"-198.8\" font-family=\"Helvetica,sans-Serif\" font-size=\"14.00\" fill=\"#000000\">samples = 840</text>\n<text text-anchor=\"middle\" x=\"771.5\" y=\"-183.8\" font-family=\"Helvetica,sans-Serif\" font-size=\"14.00\" fill=\"#000000\">value = [122, 718]</text>\n</g>\n<!-- 4788&#45;&gt;4789 -->\n<g id=\"edge17\" class=\"edge\">\n<title>4788&#45;&gt;4789</title>\n<path fill=\"none\" stroke=\"#000000\" d=\"M771.5,-279.9465C771.5,-271.776 771.5,-262.9318 771.5,-254.3697\"/>\n<polygon fill=\"#000000\" stroke=\"#000000\" points=\"775.0001,-254.13 771.5,-244.13 768.0001,-254.13 775.0001,-254.13\"/>\n</g>\n<!-- 5048 -->\n<g id=\"node25\" class=\"node\">\n<title>5048</title>\n<polygon fill=\"none\" stroke=\"#000000\" points=\"1059,-244 922,-244 922,-176 1059,-176 1059,-244\"/>\n<text text-anchor=\"middle\" x=\"990.5\" y=\"-228.8\" font-family=\"Helvetica,sans-Serif\" font-size=\"14.00\" fill=\"#000000\">job_student &lt;= 0.5</text>\n<text text-anchor=\"middle\" x=\"990.5\" y=\"-213.8\" font-family=\"Helvetica,sans-Serif\" font-size=\"14.00\" fill=\"#000000\">gini = 0.32</text>\n<text text-anchor=\"middle\" x=\"990.5\" y=\"-198.8\" font-family=\"Helvetica,sans-Serif\" font-size=\"14.00\" fill=\"#000000\">samples = 5</text>\n<text text-anchor=\"middle\" x=\"990.5\" y=\"-183.8\" font-family=\"Helvetica,sans-Serif\" font-size=\"14.00\" fill=\"#000000\">value = [4, 1]</text>\n</g>\n<!-- 4788&#45;&gt;5048 -->\n<g id=\"edge24\" class=\"edge\">\n<title>4788&#45;&gt;5048</title>\n<path fill=\"none\" stroke=\"#000000\" d=\"M837.5042,-282.6555C861.1796,-271.4124 888.0943,-258.631 912.6781,-246.9565\"/>\n<polygon fill=\"#000000\" stroke=\"#000000\" points=\"914.4426,-249.9933 921.9743,-242.5419 911.4397,-243.67 914.4426,-249.9933\"/>\n</g>\n<!-- 4790 -->\n<g id=\"node19\" class=\"node\">\n<title>4790</title>\n<polygon fill=\"none\" stroke=\"#000000\" points=\"770.5,-140 646.5,-140 646.5,-72 770.5,-72 770.5,-140\"/>\n<text text-anchor=\"middle\" x=\"708.5\" y=\"-124.8\" font-family=\"Helvetica,sans-Serif\" font-size=\"14.00\" fill=\"#000000\">age &lt;= 47.5</text>\n<text text-anchor=\"middle\" x=\"708.5\" y=\"-109.8\" font-family=\"Helvetica,sans-Serif\" font-size=\"14.00\" fill=\"#000000\">gini = 0.329</text>\n<text text-anchor=\"middle\" x=\"708.5\" y=\"-94.8\" font-family=\"Helvetica,sans-Serif\" font-size=\"14.00\" fill=\"#000000\">samples = 236</text>\n<text text-anchor=\"middle\" x=\"708.5\" y=\"-79.8\" font-family=\"Helvetica,sans-Serif\" font-size=\"14.00\" fill=\"#000000\">value = [49, 187]</text>\n</g>\n<!-- 4789&#45;&gt;4790 -->\n<g id=\"edge18\" class=\"edge\">\n<title>4789&#45;&gt;4790</title>\n<path fill=\"none\" stroke=\"#000000\" d=\"M750.8714,-175.9465C745.6501,-167.3271 739.9745,-157.9579 734.5245,-148.9611\"/>\n<polygon fill=\"#000000\" stroke=\"#000000\" points=\"737.3497,-146.8697 729.1749,-140.13 731.3626,-150.4965 737.3497,-146.8697\"/>\n</g>\n<!-- 4881 -->\n<g id=\"node22\" class=\"node\">\n<title>4881</title>\n<polygon fill=\"none\" stroke=\"#000000\" points=\"922.5,-140 788.5,-140 788.5,-72 922.5,-72 922.5,-140\"/>\n<text text-anchor=\"middle\" x=\"855.5\" y=\"-124.8\" font-family=\"Helvetica,sans-Serif\" font-size=\"14.00\" fill=\"#000000\">balance &lt;= &#45;191.0</text>\n<text text-anchor=\"middle\" x=\"855.5\" y=\"-109.8\" font-family=\"Helvetica,sans-Serif\" font-size=\"14.00\" fill=\"#000000\">gini = 0.213</text>\n<text text-anchor=\"middle\" x=\"855.5\" y=\"-94.8\" font-family=\"Helvetica,sans-Serif\" font-size=\"14.00\" fill=\"#000000\">samples = 604</text>\n<text text-anchor=\"middle\" x=\"855.5\" y=\"-79.8\" font-family=\"Helvetica,sans-Serif\" font-size=\"14.00\" fill=\"#000000\">value = [73, 531]</text>\n</g>\n<!-- 4789&#45;&gt;4881 -->\n<g id=\"edge21\" class=\"edge\">\n<title>4789&#45;&gt;4881</title>\n<path fill=\"none\" stroke=\"#000000\" d=\"M799.0047,-175.9465C806.1841,-167.0578 814.0076,-157.3716 821.481,-148.1188\"/>\n<polygon fill=\"#000000\" stroke=\"#000000\" points=\"824.3729,-150.1086 827.9335,-140.13 818.9273,-145.7102 824.3729,-150.1086\"/>\n</g>\n<!-- 4791 -->\n<g id=\"node20\" class=\"node\">\n<title>4791</title>\n<polygon fill=\"none\" stroke=\"#000000\" points=\"725.5,-36 671.5,-36 671.5,0 725.5,0 725.5,-36\"/>\n<text text-anchor=\"middle\" x=\"698.5\" y=\"-14.3\" font-family=\"Helvetica,sans-Serif\" font-size=\"14.00\" fill=\"#000000\">(...)</text>\n</g>\n<!-- 4790&#45;&gt;4791 -->\n<g id=\"edge19\" class=\"edge\">\n<title>4790&#45;&gt;4791</title>\n<path fill=\"none\" stroke=\"#000000\" d=\"M704.6337,-71.9769C703.6707,-63.5023 702.6485,-54.5065 701.7203,-46.3388\"/>\n<polygon fill=\"#000000\" stroke=\"#000000\" points=\"705.1741,-45.7328 700.5673,-36.192 698.2188,-46.5232 705.1741,-45.7328\"/>\n</g>\n<!-- 4870 -->\n<g id=\"node21\" class=\"node\">\n<title>4870</title>\n<polygon fill=\"none\" stroke=\"#000000\" points=\"797.5,-36 743.5,-36 743.5,0 797.5,0 797.5,-36\"/>\n<text text-anchor=\"middle\" x=\"770.5\" y=\"-14.3\" font-family=\"Helvetica,sans-Serif\" font-size=\"14.00\" fill=\"#000000\">(...)</text>\n</g>\n<!-- 4790&#45;&gt;4870 -->\n<g id=\"edge20\" class=\"edge\">\n<title>4790&#45;&gt;4870</title>\n<path fill=\"none\" stroke=\"#000000\" d=\"M732.4708,-71.9769C738.9111,-62.8358 745.7787,-53.0883 751.8806,-44.4276\"/>\n<polygon fill=\"#000000\" stroke=\"#000000\" points=\"754.7846,-46.3826 757.6829,-36.192 749.0622,-42.3509 754.7846,-46.3826\"/>\n</g>\n<!-- 4882 -->\n<g id=\"node23\" class=\"node\">\n<title>4882</title>\n<polygon fill=\"none\" stroke=\"#000000\" points=\"875.5,-36 821.5,-36 821.5,0 875.5,0 875.5,-36\"/>\n<text text-anchor=\"middle\" x=\"848.5\" y=\"-14.3\" font-family=\"Helvetica,sans-Serif\" font-size=\"14.00\" fill=\"#000000\">(...)</text>\n</g>\n<!-- 4881&#45;&gt;4882 -->\n<g id=\"edge22\" class=\"edge\">\n<title>4881&#45;&gt;4882</title>\n<path fill=\"none\" stroke=\"#000000\" d=\"M852.7936,-71.9769C852.1195,-63.5023 851.4039,-54.5065 850.7542,-46.3388\"/>\n<polygon fill=\"#000000\" stroke=\"#000000\" points=\"854.2291,-45.8829 849.9471,-36.192 847.2511,-46.438 854.2291,-45.8829\"/>\n</g>\n<!-- 4883 -->\n<g id=\"node24\" class=\"node\">\n<title>4883</title>\n<polygon fill=\"none\" stroke=\"#000000\" points=\"947.5,-36 893.5,-36 893.5,0 947.5,0 947.5,-36\"/>\n<text text-anchor=\"middle\" x=\"920.5\" y=\"-14.3\" font-family=\"Helvetica,sans-Serif\" font-size=\"14.00\" fill=\"#000000\">(...)</text>\n</g>\n<!-- 4881&#45;&gt;4883 -->\n<g id=\"edge23\" class=\"edge\">\n<title>4881&#45;&gt;4883</title>\n<path fill=\"none\" stroke=\"#000000\" d=\"M880.6307,-71.9769C887.3826,-62.8358 894.5825,-53.0883 900.9796,-44.4276\"/>\n<polygon fill=\"#000000\" stroke=\"#000000\" points=\"903.9367,-46.3151 907.0628,-36.192 898.3061,-42.1561 903.9367,-46.3151\"/>\n</g>\n<!-- 5049 -->\n<g id=\"node26\" class=\"node\">\n<title>5049</title>\n<polygon fill=\"none\" stroke=\"#000000\" points=\"1040,-132.5 941,-132.5 941,-79.5 1040,-79.5 1040,-132.5\"/>\n<text text-anchor=\"middle\" x=\"990.5\" y=\"-117.3\" font-family=\"Helvetica,sans-Serif\" font-size=\"14.00\" fill=\"#000000\">gini = 0.0</text>\n<text text-anchor=\"middle\" x=\"990.5\" y=\"-102.3\" font-family=\"Helvetica,sans-Serif\" font-size=\"14.00\" fill=\"#000000\">samples = 4</text>\n<text text-anchor=\"middle\" x=\"990.5\" y=\"-87.3\" font-family=\"Helvetica,sans-Serif\" font-size=\"14.00\" fill=\"#000000\">value = [4, 0]</text>\n</g>\n<!-- 5048&#45;&gt;5049 -->\n<g id=\"edge25\" class=\"edge\">\n<title>5048&#45;&gt;5049</title>\n<path fill=\"none\" stroke=\"#000000\" d=\"M990.5,-175.9465C990.5,-165.2621 990.5,-153.4254 990.5,-142.5742\"/>\n<polygon fill=\"#000000\" stroke=\"#000000\" points=\"994.0001,-142.5421 990.5,-132.5422 987.0001,-142.5422 994.0001,-142.5421\"/>\n</g>\n<!-- 5050 -->\n<g id=\"node27\" class=\"node\">\n<title>5050</title>\n<polygon fill=\"none\" stroke=\"#000000\" points=\"1157,-132.5 1058,-132.5 1058,-79.5 1157,-79.5 1157,-132.5\"/>\n<text text-anchor=\"middle\" x=\"1107.5\" y=\"-117.3\" font-family=\"Helvetica,sans-Serif\" font-size=\"14.00\" fill=\"#000000\">gini = 0.0</text>\n<text text-anchor=\"middle\" x=\"1107.5\" y=\"-102.3\" font-family=\"Helvetica,sans-Serif\" font-size=\"14.00\" fill=\"#000000\">samples = 1</text>\n<text text-anchor=\"middle\" x=\"1107.5\" y=\"-87.3\" font-family=\"Helvetica,sans-Serif\" font-size=\"14.00\" fill=\"#000000\">value = [0, 1]</text>\n</g>\n<!-- 5048&#45;&gt;5050 -->\n<g id=\"edge26\" class=\"edge\">\n<title>5048&#45;&gt;5050</title>\n<path fill=\"none\" stroke=\"#000000\" d=\"M1028.8102,-175.9465C1042.0694,-164.1606 1056.9058,-150.9726 1070.0916,-139.2519\"/>\n<polygon fill=\"#000000\" stroke=\"#000000\" points=\"1072.4912,-141.8018 1077.6401,-132.5422 1067.8407,-136.5699 1072.4912,-141.8018\"/>\n</g>\n</g>\n</svg>\n"
          },
          "metadata": {},
          "execution_count": 24
        }
      ]
    },
    {
      "cell_type": "markdown",
      "source": [
        "The tree with max depth equal to 3. We can already see some pure nodes."
      ],
      "metadata": {
        "id": "mXsUtJfNTWyw"
      }
    },
    {
      "cell_type": "code",
      "source": [
        "from sklearn.model_selection import GridSearchCV\n",
        "# Create the parameter grid based on the results of random search \n",
        "param_grid = {\n",
        "    'max_depth': range(5, 100, 5),\n",
        "    'max_features': range(1,52)\n",
        "}\n",
        "# Create a based model\n",
        "rf = DecisionTreeClassifier(random_state = 0)\n",
        "# Instantiate the grid search model\n",
        "grid_search = GridSearchCV(estimator = rf, param_grid = param_grid, \n",
        "                          cv=3, return_train_score=True)"
      ],
      "metadata": {
        "id": "ZTPUfdbSTiYe"
      },
      "execution_count": 25,
      "outputs": []
    },
    {
      "cell_type": "code",
      "source": [
        "# Fit the grid search to the data\n",
        "grid_search.fit(X_train, y_train)\n",
        "grid_search.best_params_\n",
        "\n",
        "best_grid = grid_search.best_estimator_\n",
        "\n",
        "print(\"Optimal parameters: {}\\n\".format(grid_search.best_params_))"
      ],
      "metadata": {
        "colab": {
          "base_uri": "https://localhost:8080/"
        },
        "id": "kA28Gg0tTjqN",
        "outputId": "bc8b14ef-a029-4efa-acff-6be4f8ee5930"
      },
      "execution_count": 26,
      "outputs": [
        {
          "output_type": "stream",
          "name": "stdout",
          "text": [
            "Optimal parameters: {'max_depth': 10, 'max_features': 15}\n",
            "\n"
          ]
        }
      ]
    },
    {
      "cell_type": "code",
      "source": [
        "tree2 = best_grid.fit(X_train, y_train)\n",
        "print(\"Training set score: {:.2f}\".format(tree2.score(X_train, y_train)))\n",
        "print(\"Test set score: {:.2f}\".format(tree2.score(X_test, y_test)))"
      ],
      "metadata": {
        "colab": {
          "base_uri": "https://localhost:8080/"
        },
        "id": "o2gwL1ORULQS",
        "outputId": "39455ae9-a92b-482e-e551-812bbcf123f6"
      },
      "execution_count": 27,
      "outputs": [
        {
          "output_type": "stream",
          "name": "stdout",
          "text": [
            "Training set score: 0.81\n",
            "Test set score: 0.75\n"
          ]
        }
      ]
    },
    {
      "cell_type": "code",
      "source": [
        "#Precision, recall, f1-score and accuracy before pruning\n",
        "y_pred_tree = tree.predict(X_test)\n",
        "\n",
        "print(classification_report(y_test, y_pred_tree))\n",
        "print(accuracy_score(y_test, y_pred_tree))"
      ],
      "metadata": {
        "colab": {
          "base_uri": "https://localhost:8080/"
        },
        "id": "tncFkLv5-miC",
        "outputId": "19cd6a11-8ba3-4f5e-a153-57fe8476d041"
      },
      "execution_count": 28,
      "outputs": [
        {
          "output_type": "stream",
          "name": "stdout",
          "text": [
            "              precision    recall  f1-score   support\n",
            "\n",
            "          no       0.76      0.63      0.69      2969\n",
            "         yes       0.39      0.55      0.46      1322\n",
            "\n",
            "    accuracy                           0.60      4291\n",
            "   macro avg       0.58      0.59      0.57      4291\n",
            "weighted avg       0.64      0.60      0.62      4291\n",
            "\n",
            "0.601957585644372\n"
          ]
        }
      ]
    },
    {
      "cell_type": "code",
      "source": [
        "#Precision, recall, f1-score and accuracy after pruning\n",
        "y_pred_tree = tree2.predict(X_test)\n",
        "\n",
        "print(classification_report(y_test, y_pred_tree))\n",
        "print(accuracy_score(y_test, y_pred_tree))"
      ],
      "metadata": {
        "colab": {
          "base_uri": "https://localhost:8080/"
        },
        "id": "5sAGJC5VULvC",
        "outputId": "19175e99-6115-4198-9257-6f2a6c1bb707"
      },
      "execution_count": 29,
      "outputs": [
        {
          "output_type": "stream",
          "name": "stdout",
          "text": [
            "              precision    recall  f1-score   support\n",
            "\n",
            "          no       0.81      0.83      0.82      2969\n",
            "         yes       0.59      0.56      0.58      1322\n",
            "\n",
            "    accuracy                           0.75      4291\n",
            "   macro avg       0.70      0.69      0.70      4291\n",
            "weighted avg       0.74      0.75      0.74      4291\n",
            "\n",
            "0.7455138662316476\n"
          ]
        }
      ]
    },
    {
      "cell_type": "markdown",
      "source": [
        "As we can see, pruning really helps with the precision, recall and accuracy and improves the model. The model with optimal hyperparameters gives good performance. The precision, recall and f1 scores are good and very similar to each other. It means that the number of FP and FN are similar and not very large. The model is 75% accurate."
      ],
      "metadata": {
        "id": "b5C7cJ8AUQQU"
      }
    },
    {
      "cell_type": "markdown",
      "source": [
        "**Answer the question : Are these models resilient to overfitting when model hyperparameters\n",
        "have not been carefully selected? Supplement your explanation with suitable figures/tables if\n",
        "necessary. Please limit your explanation to a maximum of 50 words.**\n",
        "\n",
        "If the hyperparameters are not selected, the tree tends to overfit. As we can see, before pruning the training set score is 1, it means that all the leafs are pure and the tree will not be able to achieve generalization. If we find the best hyperparameters, overfitting decreases. Then the training set score decreases, however the test set score increases (we can see it in the graph below)."
      ],
      "metadata": {
        "id": "3aU1eKCQUUPR"
      }
    },
    {
      "cell_type": "code",
      "source": [
        "scores = pd.DataFrame(grid_search.cv_results_)\n",
        "plt.rcParams[\"figure.figsize\"] = (5,6)\n",
        "scores.plot(x='param_max_depth', y=['mean_train_score', 'mean_test_score'], ax=plt.gca())\n",
        "plt.legend(loc=(1, 0))\n",
        "plt.show()"
      ],
      "metadata": {
        "colab": {
          "base_uri": "https://localhost:8080/",
          "height": 389
        },
        "id": "ZAwNTs2BUXKg",
        "outputId": "2e3a75e5-7b4c-464a-b74a-c1715a8ea826"
      },
      "execution_count": 30,
      "outputs": [
        {
          "output_type": "display_data",
          "data": {
            "text/plain": [
              "<Figure size 360x432 with 1 Axes>"
            ],
            "image/png": "[encoded data removed]"
          },
          "metadata": {
            "needs_background": "light"
          }
        }
      ]
    },
    {
      "cell_type": "markdown",
      "source": [
        "**In less than 50 words, explain your observations and your assessment of the classifier.**\n",
        "\n",
        "*Cons:* to be able to get good results with the Decision Tree Classifier, it is crucial to prune the data (for example, find the optimal hyperparameters) to avoid overfitting. Also, it can be difficult to understand the tree if there are big amounts of data. \n",
        "\n",
        "*Pros:* It requires little data preparation to get the results. It is also beneficial, because both numerical and categorical data can be used."
      ],
      "metadata": {
        "id": "lvX_wEQHUZd5"
      }
    },
    {
      "cell_type": "markdown",
      "source": [
        "# **Random Forest Classifier**"
      ],
      "metadata": {
        "id": "4aTVe-Zjiw1q"
      }
    },
    {
      "cell_type": "code",
      "source": [
        "from sklearn.ensemble import RandomForestClassifier\n",
        "\n",
        "forest = RandomForestClassifier(n_estimators=100, random_state=0)\n",
        "forest.fit(X_train, y_train)\n",
        "print(\"Accuracy on training set: {:.3f}\".format(forest.score(X_train, y_train)))\n",
        "print(\"Accuracy on test set: {:.3f}\".format(forest.score(X_test, y_test)))"
      ],
      "metadata": {
        "colab": {
          "base_uri": "https://localhost:8080/"
        },
        "id": "8UMJZKB6WI5z",
        "outputId": "75042e9f-bede-45de-d696-4318003f24da"
      },
      "execution_count": 31,
      "outputs": [
        {
          "output_type": "stream",
          "name": "stdout",
          "text": [
            "Accuracy on training set: 1.000\n",
            "Accuracy on test set: 0.787\n"
          ]
        }
      ]
    },
    {
      "cell_type": "code",
      "source": [
        "print(\"Feature importances:\\n{}\".format(forest.feature_importances_))"
      ],
      "metadata": {
        "colab": {
          "base_uri": "https://localhost:8080/"
        },
        "id": "yZwxP7HkWNEI",
        "outputId": "cec0b940-5d89-4b15-eb1f-f840d1b9e7d7"
      },
      "execution_count": 32,
      "outputs": [
        {
          "output_type": "stream",
          "name": "stdout",
          "text": [
            "Feature importances:\n",
            "[0.11629298 0.11513779 0.11911259 0.0982096  0.05270045 0.0425381\n",
            " 0.0239254  0.01014053 0.01138776 0.00523428 0.00366081 0.01221772\n",
            " 0.0064133  0.00588977 0.00845367 0.00519506 0.01271804 0.00556388\n",
            " 0.00111919 0.00838748 0.01226343 0.01121581 0.0089689  0.01367363\n",
            " 0.01302082 0.00523185 0.00191508 0.00197633 0.01373958 0.01705464\n",
            " 0.00827975 0.00859559 0.01441518 0.00469955 0.01755228 0.01334386\n",
            " 0.01159653 0.00389466 0.00861856 0.00506647 0.01006911 0.01233625\n",
            " 0.01040852 0.01279595 0.00966943 0.01214006 0.00706666 0.00771278\n",
            " 0.00420556 0.04211083 0.01206395]\n"
          ]
        }
      ]
    },
    {
      "cell_type": "code",
      "source": [
        "plt.rcParams[\"figure.figsize\"] = (7,12)\n",
        "plt.barh(range(51), forest.feature_importances_)\n",
        "plt.yticks(range(51), train_dummies.iloc[:,:-2].keys())\n",
        "plt.show()"
      ],
      "metadata": {
        "colab": {
          "base_uri": "https://localhost:8080/",
          "height": 700
        },
        "id": "S9Rwd0blWPXG",
        "outputId": "f7e1e6b2-ed0c-423d-ae21-35a9de870dbc"
      },
      "execution_count": 33,
      "outputs": [
        {
          "output_type": "display_data",
          "data": {
            "text/plain": [
              "<Figure size 504x864 with 1 Axes>"
            ],
            "image/png": "[encoded data removed]"
          },
          "metadata": {
            "needs_background": "light"
          }
        }
      ]
    },
    {
      "cell_type": "markdown",
      "source": [
        "Most important features are the day, the balance, the age and the ID."
      ],
      "metadata": {
        "id": "TcgA8eUW8jex"
      }
    },
    {
      "cell_type": "code",
      "source": [
        "#Precision, recall, f1-score and accuracy before pruning\n",
        "y_pred_forest = forest.predict(X_test)\n",
        "\n",
        "print(\"Accuracy score: \", accuracy_score(y_test, y_pred_forest))\n",
        "print(\"Confusion matrix: \\n\", confusion_matrix(y_test, y_pred_forest))\n",
        "print(classification_report(y_test, y_pred_forest))"
      ],
      "metadata": {
        "colab": {
          "base_uri": "https://localhost:8080/"
        },
        "id": "E1diRH-DWZyK",
        "outputId": "48eedaca-46da-43b6-cebd-e37dca724095"
      },
      "execution_count": 34,
      "outputs": [
        {
          "output_type": "stream",
          "name": "stdout",
          "text": [
            "Accuracy score:  0.7869960382195292\n",
            "Confusion matrix: \n",
            " [[2716  253]\n",
            " [ 661  661]]\n",
            "              precision    recall  f1-score   support\n",
            "\n",
            "          no       0.80      0.91      0.86      2969\n",
            "         yes       0.72      0.50      0.59      1322\n",
            "\n",
            "    accuracy                           0.79      4291\n",
            "   macro avg       0.76      0.71      0.72      4291\n",
            "weighted avg       0.78      0.79      0.77      4291\n",
            "\n"
          ]
        }
      ]
    },
    {
      "cell_type": "markdown",
      "source": [
        "**b)**"
      ],
      "metadata": {
        "id": "sAZT3dT_XYTe"
      }
    },
    {
      "cell_type": "markdown",
      "source": [
        "We observe an accuracy of ~78.7%. On the diagonal of the confusion matrix, we can see how many times the predicted label maches the true label. Values in the other cells show where the classifier mislabeled an observation.\n",
        "\n",
        "Micro average is only shown for multi-label or multi-class with a subset of classes, because it corresponds to accuracy otherwise. Thus, in our case since we are doing a binary classification, the micro average = the accuracy = 0.787.\n",
        "\n",
        "We see that out of all the positive predictions, 76% of them are truly positive based on the macro average (precision). And out of all the actual positive examples, 71% of them were correctly predicted to be positive (recall).\n",
        "\n",
        "The F1 score serves as a helpful metric that considers both the precision and the recall in order to evaluate the model comprehensively. We observe that the dataset is imbalanced since there are more than 2 times more no instances than yes instances. In such cases, taking the micro average (the accuracy in our case) is the better option. Micro-average: calculating metrics globally by counting the total true positives, false negatives and false positives. Micro avg prevails as a choice when we are interested in simply maximizing the number of correct predictions the classifier makes.\n",
        "\n"
      ],
      "metadata": {
        "id": "6tHXtpwDWedH"
      }
    },
    {
      "cell_type": "markdown",
      "source": [
        "**c)**"
      ],
      "metadata": {
        "id": "S7uHbmcLXbE_"
      }
    },
    {
      "cell_type": "markdown",
      "source": [
        "\n",
        "\n",
        "**i. How are decision tree classifiers different from random forests on a structural level?**\n",
        "\n",
        "Decision tree classifiers create a tree-like model of decisions along with possible outcomes in a diagram. Meanwhile, random forests classifier is an algorithm consisting of many decision trees combined to get a more accurate result compared to a single tree.\n",
        "\n",
        "**ii. Where would you choose decision trees over random forests and vice-versa? Demonstrate this using an appropriate example from your data.**\n",
        "\n",
        "Choosing random forests over decision trees can be because random forest algorithm avoids and prevents overfitting and gives accurate and precise results - as we see accuracy 0.787 vs 0.602 before pruning. Choosing decision trees over random forests might be because they require low computation, thus reducing time to implement and they are easy to visualise.\n",
        "\n",
        "**iii. Is accuracy an appropriate evaluation metric for this classification task? if yes, in what kind of data may it not be a good metric?**\n",
        "\n",
        "Yes, as we are interested in maximizing the number of correct predictions, the accuracy is a good evaluation metric. However, for a classification problem, diagnosing a disease in 1% of the population.  It could achieve a 99% micro-averaged accuracy on the task. Thus we use the macro avgerage as it gives each class equal importance."
      ],
      "metadata": {
        "id": "sE9couJaWi-m"
      }
    },
    {
      "cell_type": "markdown",
      "source": [
        "**d)**"
      ],
      "metadata": {
        "id": "ePtgP2vfXesP"
      }
    },
    {
      "cell_type": "markdown",
      "source": [
        "After evaluating a couple of ranges for the hyperparameter tuning, in order for the code to run in a timely manner we have restricted the ranges."
      ],
      "metadata": {
        "id": "-w3UTbRsExGP"
      }
    },
    {
      "cell_type": "code",
      "source": [
        "from sklearn.model_selection import GridSearchCV\n",
        "# Create the parameter grid based on the results of random search \n",
        "param_grid = {\n",
        "    'max_depth': range(10,25,5),\n",
        "    'max_features': range(10,20),\n",
        "    'n_estimators': [700,900,1000]\n",
        "}\n",
        "# Create a based model\n",
        "rf = RandomForestClassifier(random_state=0)\n",
        "# Instantiate the grid search model\n",
        "grid_search = GridSearchCV(estimator = rf, param_grid = param_grid, cv = 3, n_jobs = -1, verbose = 1, return_train_score=True)\n"
      ],
      "metadata": {
        "id": "6PcuCMFKWdZO"
      },
      "execution_count": 36,
      "outputs": []
    },
    {
      "cell_type": "code",
      "source": [
        "# Fit the grid search to the data\n",
        "grid_search.fit(X_train, y_train)\n",
        "grid_search.best_params_\n",
        "\n",
        "best_grid = grid_search.best_estimator_\n",
        "\n",
        "print(\"Optimal parameters: {}\\n\".format(grid_search.best_params_))\n"
      ],
      "metadata": {
        "colab": {
          "base_uri": "https://localhost:8080/"
        },
        "id": "ez9SxbDEYFf6",
        "outputId": "c046ad71-dc60-41a4-c53e-45c6181ce66c"
      },
      "execution_count": 37,
      "outputs": [
        {
          "output_type": "stream",
          "name": "stdout",
          "text": [
            "Fitting 3 folds for each of 90 candidates, totalling 270 fits\n",
            "Optimal parameters: {'max_depth': 20, 'max_features': 12, 'n_estimators': 900}\n",
            "\n"
          ]
        }
      ]
    },
    {
      "cell_type": "markdown",
      "source": [
        "The best hyperparameters are:\n",
        "max_depth = 20, max_features = 12, n_estimators = 1000"
      ],
      "metadata": {
        "id": "TvJwpk4fUVgv"
      }
    },
    {
      "cell_type": "code",
      "source": [
        "forest1 = best_grid.fit(X_train, y_train)\n",
        "print(\"Training set score: {:.2f}\".format(forest1.score(X_train, y_train)))\n",
        "print(\"Test set score: {:.2f}\".format(forest1.score(X_test, y_test)))"
      ],
      "metadata": {
        "colab": {
          "base_uri": "https://localhost:8080/"
        },
        "id": "w8YmyCYDYNO6",
        "outputId": "607104f5-9174-42a1-ce45-9911ec843d78"
      },
      "execution_count": 38,
      "outputs": [
        {
          "output_type": "stream",
          "name": "stdout",
          "text": [
            "Training set score: 0.95\n",
            "Test set score: 0.79\n"
          ]
        }
      ]
    },
    {
      "cell_type": "markdown",
      "source": [
        "The training score is 0.95 and the test score is 0.7923560941505476 - sligthly better from the result before pruning."
      ],
      "metadata": {
        "id": "Y8fTNz5WYTvb"
      }
    },
    {
      "cell_type": "code",
      "source": [
        "#Precision, recall, f1-score and accuracy after pruning\n",
        "y_pred_forest1 = forest1.predict(X_test)\n",
        "\n",
        "print(classification_report(y_test, y_pred_forest1))\n",
        "print(\"Accuracy score: \", accuracy_score(y_test, y_pred_forest1))"
      ],
      "metadata": {
        "colab": {
          "base_uri": "https://localhost:8080/"
        },
        "id": "HYmYJZTKYtYg",
        "outputId": "3acebb00-3946-4d79-edf8-ce5aad477666"
      },
      "execution_count": 39,
      "outputs": [
        {
          "output_type": "stream",
          "name": "stdout",
          "text": [
            "              precision    recall  f1-score   support\n",
            "\n",
            "          no       0.80      0.93      0.86      2969\n",
            "         yes       0.75      0.49      0.59      1322\n",
            "\n",
            "    accuracy                           0.79      4291\n",
            "   macro avg       0.78      0.71      0.73      4291\n",
            "weighted avg       0.79      0.79      0.78      4291\n",
            "\n",
            "Accuracy score:  0.7923560941505476\n"
          ]
        }
      ]
    },
    {
      "cell_type": "markdown",
      "source": [
        "**In less than 50 words, explain your observations and your assessment of the classifier.**\n",
        "\n",
        "*Cons:* The main drawback for the Random Forest Classifier is the complexity, it is much more time-intensive than decision tree construction and requires more computational power to implement. \n",
        "\n",
        "*Pros:* Random forest avoid overfitting and when using it, it is not crucial to prune data as the scores were identical in our case."
      ],
      "metadata": {
        "id": "gC4394SvY9z-"
      }
    }
  ]
}